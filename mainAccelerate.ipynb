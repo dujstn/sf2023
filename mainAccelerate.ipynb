{
 "cells": [
  {
   "cell_type": "code",
   "execution_count": 1,
   "metadata": {},
   "outputs": [
    {
     "name": "stderr",
     "output_type": "stream",
     "text": [
      "No config specified, defaulting to: arxiv-summarization/section\n",
      "Found cached dataset arxiv-summarization (C:/Users/JustinDu/.cache/huggingface/datasets/ccdv___arxiv-summarization/section/1.0.0/fa2c9abf4312afb8660ef8e041d576b8e3943ea96ae771bd3cd091b5798e7cc3)\n"
     ]
    },
    {
     "data": {
      "application/vnd.jupyter.widget-view+json": {
       "model_id": "ea8389e995a844e6be3036f046593cf7",
       "version_major": 2,
       "version_minor": 0
      },
      "text/plain": [
       "  0%|          | 0/3 [00:00<?, ?it/s]"
      ]
     },
     "metadata": {},
     "output_type": "display_data"
    },
    {
     "data": {
      "text/plain": [
       "DatasetDict({\n",
       "    train: Dataset({\n",
       "        features: ['article', 'abstract'],\n",
       "        num_rows: 203037\n",
       "    })\n",
       "    validation: Dataset({\n",
       "        features: ['article', 'abstract'],\n",
       "        num_rows: 6436\n",
       "    })\n",
       "    test: Dataset({\n",
       "        features: ['article', 'abstract'],\n",
       "        num_rows: 6440\n",
       "    })\n",
       "})"
      ]
     },
     "execution_count": 1,
     "metadata": {},
     "output_type": "execute_result"
    }
   ],
   "source": [
    "from datasets import load_dataset\n",
    "\n",
    "dataset = load_dataset(\"ccdv/arxiv-summarization\")\n",
    "dataset"
   ]
  },
  {
   "cell_type": "code",
   "execution_count": 2,
   "metadata": {},
   "outputs": [
    {
     "name": "stderr",
     "output_type": "stream",
     "text": [
      "Loading cached shuffled indices for dataset at C:/Users/JustinDu/.cache/huggingface/datasets/ccdv___arxiv-summarization/section/1.0.0/fa2c9abf4312afb8660ef8e041d576b8e3943ea96ae771bd3cd091b5798e7cc3\\cache-3ee4c461301487f2.arrow\n",
      "Loading cached shuffled indices for dataset at C:/Users/JustinDu/.cache/huggingface/datasets/ccdv___arxiv-summarization/section/1.0.0/fa2c9abf4312afb8660ef8e041d576b8e3943ea96ae771bd3cd091b5798e7cc3\\cache-fbc361ab6d3e1a66.arrow\n",
      "Loading cached shuffled indices for dataset at C:/Users/JustinDu/.cache/huggingface/datasets/ccdv___arxiv-summarization/section/1.0.0/fa2c9abf4312afb8660ef8e041d576b8e3943ea96ae771bd3cd091b5798e7cc3\\cache-5b77c4043db5b76d.arrow\n"
     ]
    }
   ],
   "source": [
    "data_train = dataset['train'].shuffle(seed=42)\n",
    "data_test = dataset['test'].shuffle(seed=42)\n",
    "data_val = dataset['validation'].shuffle(seed=42)"
   ]
  },
  {
   "cell_type": "code",
   "execution_count": 3,
   "metadata": {},
   "outputs": [],
   "source": [
    "data_test = data_test.shard(num_shards=6, index=0)\n",
    "data_val = data_val.shard(num_shards=24, index=0)"
   ]
  },
  {
   "cell_type": "code",
   "execution_count": 4,
   "metadata": {},
   "outputs": [],
   "source": [
    "from transformers import AutoTokenizer\n",
    "from transformers import AutoModelForSeq2SeqLM\n",
    "from transformers import DataCollatorForSeq2Seq\n",
    "import torch\n",
    "\n",
    "checkpoint = 'facebook/bart-large-cnn'\n",
    "tokenizer = AutoTokenizer.from_pretrained(checkpoint)\n",
    "model = AutoModelForSeq2SeqLM.from_pretrained(checkpoint)\n",
    "data_collator = DataCollatorForSeq2Seq(tokenizer, model=model)"
   ]
  },
  {
   "cell_type": "code",
   "execution_count": 5,
   "metadata": {},
   "outputs": [],
   "source": [
    "max_length = 1024\n",
    "\n",
    "def tokenize_function(data):\n",
    "\n",
    "    model_inputs = tokenizer(\n",
    "        data[\"article\"],\n",
    "        truncation=True,\n",
    "        padding='max_length',\n",
    "        max_length=max_length,\n",
    "        return_tensors='pt'\n",
    "    )\n",
    "\n",
    "    labels = tokenizer(\n",
    "        data['abstract'],\n",
    "        truncation=True,\n",
    "        padding='max_length',\n",
    "        max_length=max_length,\n",
    "        return_tensors='pt'\n",
    "    )\n",
    "    model_inputs[\"labels\"] = labels[\"input_ids\"]\n",
    "\n",
    "    return model_inputs"
   ]
  },
  {
   "cell_type": "code",
   "execution_count": 6,
   "metadata": {},
   "outputs": [
    {
     "name": "stderr",
     "output_type": "stream",
     "text": [
      "Loading cached processed dataset at C:/Users/JustinDu/.cache/huggingface/datasets/ccdv___arxiv-summarization/section/1.0.0/fa2c9abf4312afb8660ef8e041d576b8e3943ea96ae771bd3cd091b5798e7cc3\\cache-87b186c7a5b06335.arrow\n"
     ]
    },
    {
     "data": {
      "application/vnd.jupyter.widget-view+json": {
       "model_id": "d8e6611b58ba4c5db7342178121cb9ee",
       "version_major": 2,
       "version_minor": 0
      },
      "text/plain": [
       "  0%|          | 0/1 [00:00<?, ?ba/s]"
      ]
     },
     "metadata": {},
     "output_type": "display_data"
    }
   ],
   "source": [
    "tok = data_test.map(tokenize_function, batched=True)\n",
    "tok_val = data_val.map(tokenize_function, batched=True)\n",
    "tok = tok.remove_columns(\n",
    "    data_test.column_names\n",
    ")\n",
    "tok_val = tok_val.remove_columns(\n",
    "    data_val.column_names\n",
    ")"
   ]
  },
  {
   "cell_type": "code",
   "execution_count": 7,
   "metadata": {},
   "outputs": [
    {
     "name": "stderr",
     "output_type": "stream",
     "text": [
      "[nltk_data] Downloading package punkt to\n",
      "[nltk_data]     C:\\Users\\JustinDu\\AppData\\Roaming\\nltk_data...\n",
      "[nltk_data]   Package punkt is already up-to-date!\n"
     ]
    }
   ],
   "source": [
    "import evaluate\n",
    "import nltk\n",
    "\n",
    "nltk.download(\"punkt\")\n",
    "rouge_score = evaluate.load('rouge')"
   ]
  },
  {
   "attachments": {},
   "cell_type": "markdown",
   "metadata": {},
   "source": [
    "Data is done preparing"
   ]
  },
  {
   "cell_type": "code",
   "execution_count": 8,
   "metadata": {},
   "outputs": [],
   "source": [
    "tok.set_format('torch')\n",
    "tok_val.set_format('torch')\n"
   ]
  },
  {
   "cell_type": "code",
   "execution_count": 9,
   "metadata": {},
   "outputs": [],
   "source": [
    "# from huggingface_hub import notebook_login\n",
    "\n",
    "# notebook_login()"
   ]
  },
  {
   "cell_type": "code",
   "execution_count": 10,
   "metadata": {},
   "outputs": [],
   "source": [
    "from transformers import Seq2SeqTrainingArguments, Trainer\n",
    "training_args = Seq2SeqTrainingArguments(\n",
    "    output_dir='arxiv-accelerate',\n",
    "    num_train_epochs=20,\n",
    "    evaluation_strategy='epoch',\n",
    "    per_device_train_batch_size=1,\n",
    "    per_device_eval_batch_size=1,\n",
    "    gradient_accumulation_steps=1,\n",
    "    gradient_checkpointing=True,\n",
    "    fp16=True,\n",
    ")"
   ]
  },
  {
   "cell_type": "code",
   "execution_count": 11,
   "metadata": {},
   "outputs": [],
   "source": [
    "from nltk.tokenize import sent_tokenize\n",
    "def postprocess_text(preds, labels):\n",
    "    preds = [pred.strip() for pred in preds]\n",
    "    labels = [label.strip() for label in labels]\n",
    "\n",
    "    # ROUGE expects a newline after each sentence\n",
    "    preds = [\"\\n\".join(nltk.sent_tokenize(pred)) for pred in preds]\n",
    "    labels = [\"\\n\".join(nltk.sent_tokenize(label)) for label in labels]\n",
    "\n",
    "    return preds, labels"
   ]
  },
  {
   "cell_type": "code",
   "execution_count": 12,
   "metadata": {},
   "outputs": [
    {
     "name": "stderr",
     "output_type": "stream",
     "text": [
      "c:\\Users\\JustinDu\\Documents\\GitHub\\sf2023\\BARTxiv is already a clone of https://huggingface.co/kworts/BARTxiv. Make sure you pull the latest changes with `repo.git_pull()`.\n"
     ]
    },
    {
     "data": {
      "application/vnd.jupyter.widget-view+json": {
       "model_id": "0ab740ffd74f49a6b557ea5ef2ea92bd",
       "version_major": 2,
       "version_minor": 0
      },
      "text/plain": [
       "  0%|          | 0/21480 [00:00<?, ?it/s]"
      ]
     },
     "metadata": {},
     "output_type": "display_data"
    },
    {
     "name": "stderr",
     "output_type": "stream",
     "text": [
      "c:\\Anaconda\\envs\\sf2023\\lib\\site-packages\\accelerate\\accelerator.py:224: FutureWarning: `fp16=True` is deprecated and will be removed in version 0.15.0 of 🤗 Accelerate. Use `mixed_precision='fp16'` instead.\n",
      "  warnings.warn(\n",
      "You're using a BartTokenizerFast tokenizer. Please note that with a fast tokenizer, using the `__call__` method is faster than using a method to encode the text followed by a call to the `pad` method to get a padded encoding.\n"
     ]
    },
    {
     "data": {
      "application/vnd.jupyter.widget-view+json": {
       "model_id": "d0d2a11a40f34dd0bb509e5e9c4d7903",
       "version_major": 2,
       "version_minor": 0
      },
      "text/plain": [
       "  0%|          | 0/269 [00:00<?, ?it/s]"
      ]
     },
     "metadata": {},
     "output_type": "display_data"
    },
    {
     "name": "stdout",
     "output_type": "stream",
     "text": [
      "Epoch 0: {'rouge1': 38.31617136053055, 'rouge2': 12.803472935970536, 'rougeL': 20.546710331016598, 'rougeLsum': 34.5034892113165}\n",
      "Epoch 0 loss:  tensor(1.2405, device='cuda:0', grad_fn=<DivBackward0>)\n"
     ]
    },
    {
     "data": {
      "application/vnd.jupyter.widget-view+json": {
       "model_id": "c718dd3921634a78a9c5ed3a607ec669",
       "version_major": 2,
       "version_minor": 0
      },
      "text/plain": [
       "  0%|          | 0/269 [00:00<?, ?it/s]"
      ]
     },
     "metadata": {},
     "output_type": "display_data"
    },
    {
     "name": "stdout",
     "output_type": "stream",
     "text": [
      "Epoch 1: {'rouge1': 39.65485814776438, 'rouge2': 13.73924018367175, 'rougeL': 21.284299529135914, 'rougeLsum': 35.83483657763331}\n",
      "Epoch 1 loss:  tensor(1.0434, device='cuda:0', grad_fn=<DivBackward0>)\n"
     ]
    },
    {
     "data": {
      "application/vnd.jupyter.widget-view+json": {
       "model_id": "7d69a180de8549e790c5fc30613705e4",
       "version_major": 2,
       "version_minor": 0
      },
      "text/plain": [
       "  0%|          | 0/269 [00:00<?, ?it/s]"
      ]
     },
     "metadata": {},
     "output_type": "display_data"
    },
    {
     "name": "stdout",
     "output_type": "stream",
     "text": [
      "Epoch 2: {'rouge1': 40.18933746211036, 'rouge2': 14.29749480079333, 'rougeL': 21.872425754512665, 'rougeLsum': 36.37563574221458}\n",
      "Epoch 2 loss:  tensor(0.9790, device='cuda:0', grad_fn=<DivBackward0>)\n"
     ]
    },
    {
     "data": {
      "application/vnd.jupyter.widget-view+json": {
       "model_id": "6adc0d0258ec473fb6be5e141c7a0352",
       "version_major": 2,
       "version_minor": 0
      },
      "text/plain": [
       "  0%|          | 0/269 [00:00<?, ?it/s]"
      ]
     },
     "metadata": {},
     "output_type": "display_data"
    },
    {
     "name": "stdout",
     "output_type": "stream",
     "text": [
      "Epoch 3: {'rouge1': 40.87091810179806, 'rouge2': 14.43885137302667, 'rougeL': 22.137460745202315, 'rougeLsum': 36.894183724056596}\n",
      "Epoch 3 loss:  tensor(0.9703, device='cuda:0', grad_fn=<DivBackward0>)\n"
     ]
    },
    {
     "data": {
      "application/vnd.jupyter.widget-view+json": {
       "model_id": "e55d00eee482414aaaced967af20192c",
       "version_major": 2,
       "version_minor": 0
      },
      "text/plain": [
       "  0%|          | 0/269 [00:00<?, ?it/s]"
      ]
     },
     "metadata": {},
     "output_type": "display_data"
    },
    {
     "name": "stdout",
     "output_type": "stream",
     "text": [
      "Epoch 4: {'rouge1': 41.17147947926127, 'rouge2': 14.94254599264743, 'rougeL': 22.537739946476858, 'rougeLsum': 37.40377842875533}\n",
      "Epoch 4 loss:  tensor(0.9183, device='cuda:0', grad_fn=<DivBackward0>)\n"
     ]
    },
    {
     "data": {
      "application/vnd.jupyter.widget-view+json": {
       "model_id": "f5acace03a5241c39684c227bda8eaf1",
       "version_major": 2,
       "version_minor": 0
      },
      "text/plain": [
       "  0%|          | 0/269 [00:00<?, ?it/s]"
      ]
     },
     "metadata": {},
     "output_type": "display_data"
    },
    {
     "name": "stdout",
     "output_type": "stream",
     "text": [
      "Epoch 5: {'rouge1': 41.02375297674013, 'rouge2': 14.647176179868957, 'rougeL': 22.461823785602306, 'rougeLsum': 37.046014093603304}\n",
      "Epoch 5 loss:  tensor(0.9012, device='cuda:0', grad_fn=<DivBackward0>)\n"
     ]
    },
    {
     "data": {
      "application/vnd.jupyter.widget-view+json": {
       "model_id": "3de3272871a94410be31577b986c6839",
       "version_major": 2,
       "version_minor": 0
      },
      "text/plain": [
       "  0%|          | 0/269 [00:00<?, ?it/s]"
      ]
     },
     "metadata": {},
     "output_type": "display_data"
    },
    {
     "name": "stdout",
     "output_type": "stream",
     "text": [
      "Epoch 6: {'rouge1': 41.32146707561785, 'rouge2': 15.088005565749349, 'rougeL': 22.639913357637422, 'rougeLsum': 37.42206691452452}\n",
      "Epoch 6 loss:  tensor(0.8889, device='cuda:0', grad_fn=<DivBackward0>)\n"
     ]
    },
    {
     "data": {
      "application/vnd.jupyter.widget-view+json": {
       "model_id": "aeb8986710fb4ecd8f6ab44e9a5a5e19",
       "version_major": 2,
       "version_minor": 0
      },
      "text/plain": [
       "  0%|          | 0/269 [00:00<?, ?it/s]"
      ]
     },
     "metadata": {},
     "output_type": "display_data"
    },
    {
     "name": "stdout",
     "output_type": "stream",
     "text": [
      "Epoch 7: {'rouge1': 41.23330666579406, 'rouge2': 15.020647594510327, 'rougeL': 22.67065760928774, 'rougeLsum': 37.28100695734089}\n",
      "Epoch 7 loss:  tensor(0.9007, device='cuda:0', grad_fn=<DivBackward0>)\n"
     ]
    },
    {
     "data": {
      "application/vnd.jupyter.widget-view+json": {
       "model_id": "9b54d7834f4f445886992f1044fbbd3b",
       "version_major": 2,
       "version_minor": 0
      },
      "text/plain": [
       "  0%|          | 0/269 [00:00<?, ?it/s]"
      ]
     },
     "metadata": {},
     "output_type": "display_data"
    },
    {
     "name": "stdout",
     "output_type": "stream",
     "text": [
      "Epoch 8: {'rouge1': 41.70204016592095, 'rouge2': 15.134827404979639, 'rougeL': 22.845237689383485, 'rougeLsum': 37.774619097070186}\n",
      "Epoch 8 loss:  tensor(0.8686, device='cuda:0', grad_fn=<DivBackward0>)\n"
     ]
    },
    {
     "ename": "KeyboardInterrupt",
     "evalue": "",
     "output_type": "error",
     "traceback": [
      "\u001b[1;31m---------------------------------------------------------------------------\u001b[0m",
      "\u001b[1;31mKeyboardInterrupt\u001b[0m                         Traceback (most recent call last)",
      "\u001b[1;32mc:\\Users\\JustinDu\\Documents\\GitHub\\sf2023\\mainAccelerate.ipynb Cell 13\u001b[0m in \u001b[0;36m<cell line: 46>\u001b[1;34m()\u001b[0m\n\u001b[0;32m     <a href='vscode-notebook-cell:/c%3A/Users/JustinDu/Documents/GitHub/sf2023/mainAccelerate.ipynb#X15sZmlsZQ%3D%3D?line=50'>51</a>\u001b[0m accelerator\u001b[39m.\u001b[39mbackward(loss)\n\u001b[0;32m     <a href='vscode-notebook-cell:/c%3A/Users/JustinDu/Documents/GitHub/sf2023/mainAccelerate.ipynb#X15sZmlsZQ%3D%3D?line=51'>52</a>\u001b[0m \u001b[39mif\u001b[39;00m step \u001b[39m%\u001b[39m training_args\u001b[39m.\u001b[39mgradient_accumulation_steps \u001b[39m==\u001b[39m \u001b[39m0\u001b[39m:\n\u001b[1;32m---> <a href='vscode-notebook-cell:/c%3A/Users/JustinDu/Documents/GitHub/sf2023/mainAccelerate.ipynb#X15sZmlsZQ%3D%3D?line=52'>53</a>\u001b[0m     optimizer\u001b[39m.\u001b[39;49mstep()\n\u001b[0;32m     <a href='vscode-notebook-cell:/c%3A/Users/JustinDu/Documents/GitHub/sf2023/mainAccelerate.ipynb#X15sZmlsZQ%3D%3D?line=53'>54</a>\u001b[0m     optimizer\u001b[39m.\u001b[39mzero_grad()\n\u001b[0;32m     <a href='vscode-notebook-cell:/c%3A/Users/JustinDu/Documents/GitHub/sf2023/mainAccelerate.ipynb#X15sZmlsZQ%3D%3D?line=54'>55</a>\u001b[0m     progress_bar\u001b[39m.\u001b[39mupdate(\u001b[39m1\u001b[39m)\n",
      "File \u001b[1;32mc:\\Anaconda\\envs\\sf2023\\lib\\site-packages\\accelerate\\optimizer.py:133\u001b[0m, in \u001b[0;36mAcceleratedOptimizer.step\u001b[1;34m(self, closure)\u001b[0m\n\u001b[0;32m    131\u001b[0m     xm\u001b[39m.\u001b[39moptimizer_step(\u001b[39mself\u001b[39m\u001b[39m.\u001b[39moptimizer, optimizer_args\u001b[39m=\u001b[39moptimizer_args)\n\u001b[0;32m    132\u001b[0m \u001b[39melif\u001b[39;00m \u001b[39mself\u001b[39m\u001b[39m.\u001b[39mscaler \u001b[39mis\u001b[39;00m \u001b[39mnot\u001b[39;00m \u001b[39mNone\u001b[39;00m:\n\u001b[1;32m--> 133\u001b[0m     scale_before \u001b[39m=\u001b[39m \u001b[39mself\u001b[39;49m\u001b[39m.\u001b[39;49mscaler\u001b[39m.\u001b[39;49mget_scale()\n\u001b[0;32m    134\u001b[0m     \u001b[39mself\u001b[39m\u001b[39m.\u001b[39mscaler\u001b[39m.\u001b[39mstep(\u001b[39mself\u001b[39m\u001b[39m.\u001b[39moptimizer, closure)\n\u001b[0;32m    135\u001b[0m     \u001b[39mself\u001b[39m\u001b[39m.\u001b[39mscaler\u001b[39m.\u001b[39mupdate()\n",
      "File \u001b[1;32mc:\\Anaconda\\envs\\sf2023\\lib\\site-packages\\torch\\cuda\\amp\\grad_scaler.py:417\u001b[0m, in \u001b[0;36mGradScaler.get_scale\u001b[1;34m(self)\u001b[0m\n\u001b[0;32m    410\u001b[0m \u001b[39m\"\"\"\u001b[39;00m\n\u001b[0;32m    411\u001b[0m \u001b[39mReturns a Python float containing the current scale, or 1.0 if scaling is disabled.\u001b[39;00m\n\u001b[0;32m    412\u001b[0m \n\u001b[0;32m    413\u001b[0m \u001b[39m.. warning::\u001b[39;00m\n\u001b[0;32m    414\u001b[0m \u001b[39m    :meth:`get_scale` incurs a CPU-GPU sync.\u001b[39;00m\n\u001b[0;32m    415\u001b[0m \u001b[39m\"\"\"\u001b[39;00m\n\u001b[0;32m    416\u001b[0m \u001b[39mif\u001b[39;00m \u001b[39mself\u001b[39m\u001b[39m.\u001b[39m_enabled:\n\u001b[1;32m--> 417\u001b[0m     \u001b[39mreturn\u001b[39;00m \u001b[39mself\u001b[39m\u001b[39m.\u001b[39m_init_scale \u001b[39mif\u001b[39;00m \u001b[39mself\u001b[39m\u001b[39m.\u001b[39m_scale \u001b[39mis\u001b[39;00m \u001b[39mNone\u001b[39;00m \u001b[39melse\u001b[39;00m \u001b[39mself\u001b[39;49m\u001b[39m.\u001b[39;49m_get_scale_async()\u001b[39m.\u001b[39;49mitem()\n\u001b[0;32m    418\u001b[0m \u001b[39melse\u001b[39;00m:\n\u001b[0;32m    419\u001b[0m     \u001b[39mreturn\u001b[39;00m \u001b[39m1.0\u001b[39m\n",
      "\u001b[1;31mKeyboardInterrupt\u001b[0m: "
     ]
    }
   ],
   "source": [
    "import torch\n",
    "import numpy as np\n",
    "import os\n",
    "import socket\n",
    "import torch_optimizer as optim\n",
    "from accelerate import Accelerator\n",
    "from accelerate.utils import LoggerType\n",
    "from torch.utils.data.dataloader import DataLoader\n",
    "from tqdm.auto import tqdm\n",
    "from datetime import datetime\n",
    "from torch.utils.tensorboard import SummaryWriter\n",
    "from huggingface_hub import Repository\n",
    "from transformers import get_scheduler\n",
    "\n",
    "repo = Repository('BARTxiv', clone_from='kworts/BARTxiv')\n",
    "device = torch.device('cuda')\n",
    "current_time = datetime.now().strftime(\"%b%d_%H-%M-%S\")\n",
    "url = current_time + \"_\" + socket.gethostname()\n",
    "writer = SummaryWriter(log_dir=f'BARTxiv/runs/{url}')\n",
    "\n",
    "\n",
    "dataloader = DataLoader(\n",
    "    tok, \n",
    "    batch_size=training_args.per_device_train_batch_size,\n",
    "    collate_fn=data_collator\n",
    "    )\n",
    "dataloader_val = DataLoader(\n",
    "    tok_val, \n",
    "    batch_size=training_args.per_device_train_batch_size,\n",
    "    collate_fn=data_collator\n",
    "    )\n",
    "\n",
    "num_update_steps_per_epoch = len(dataloader)\n",
    "num_training_steps = int(num_update_steps_per_epoch * training_args.num_train_epochs / training_args.gradient_accumulation_steps)\n",
    "progress_bar = tqdm(range(num_training_steps))\n",
    "\n",
    "\n",
    "if training_args.gradient_checkpointing:\n",
    "    model.gradient_checkpointing_enable()\n",
    "\n",
    "optimizer = optim.Adafactor(model.parameters(), scale_parameter=False, relative_step=False, warmup_init=False, lr=1e-6)\n",
    "\n",
    "accelerator = Accelerator(fp16=training_args.fp16)\n",
    "model, optimizer, dataloader, dataloader_val = accelerator.prepare(model, optimizer, dataloader, dataloader_val)\n",
    "\n",
    "for epoch in range(training_args.num_train_epochs):\n",
    "    model.train()\n",
    "    for step, batch in enumerate(dataloader, start=0):\n",
    "        loss = model(**batch).loss\n",
    "        loss = loss / training_args.gradient_accumulation_steps\n",
    "        accelerator.backward(loss)\n",
    "        if step % training_args.gradient_accumulation_steps == 0:\n",
    "            optimizer.step()\n",
    "            optimizer.zero_grad()\n",
    "            progress_bar.update(1)\n",
    "    writer.add_scalar(f'train/loss', loss.item(), epoch)\n",
    "    model.eval()\n",
    "\n",
    "    eval_bar = tqdm(range(len(dataloader_val)))\n",
    "\n",
    "    for step, batch in enumerate(dataloader_val, start=0):\n",
    "\n",
    "        batch = tuple(b.to(device) for b in batch.values())\n",
    "        \n",
    "        with torch.no_grad():\n",
    "            generated_tokens = accelerator.unwrap_model(model).generate(\n",
    "                batch[0],\n",
    "                attention_mask=batch[1],\n",
    "                max_new_tokens=1024,\n",
    "            )\n",
    "\n",
    "            generated_tokens = accelerator.pad_across_processes(\n",
    "                generated_tokens, dim=1, pad_index=tokenizer.pad_token_id\n",
    "            )\n",
    "            labels = batch[2]\n",
    "\n",
    "            # If we did not pad to max length, we need to pad the labels too\n",
    "            labels = accelerator.pad_across_processes(\n",
    "                batch[2], dim=1, pad_index=tokenizer.pad_token_id\n",
    "            )\n",
    "\n",
    "            generated_tokens = accelerator.gather(generated_tokens).cpu().numpy()\n",
    "            labels = accelerator.gather(labels).cpu().numpy()\n",
    "\n",
    "            # Replace -100 in the labels as we can't decode them\n",
    "            labels = np.where(labels != -100, labels, tokenizer.pad_token_id)\n",
    "            if isinstance(generated_tokens, tuple):\n",
    "                generated_tokens = generated_tokens[0]\n",
    "            decoded_preds = tokenizer.batch_decode(\n",
    "                generated_tokens, skip_special_tokens=True\n",
    "            )\n",
    "            decoded_labels = tokenizer.batch_decode(labels, skip_special_tokens=True)\n",
    "\n",
    "            decoded_preds, decoded_labels = postprocess_text(\n",
    "                decoded_preds, decoded_labels\n",
    "            )\n",
    "\n",
    "            rouge_score.add_batch(predictions=decoded_preds, references=decoded_labels)\n",
    "\n",
    "            eval_bar.update(1)\n",
    "\n",
    "    # Compute metrics\n",
    "    result = rouge_score.compute()\n",
    "    # Extract the median ROUGE scores\n",
    "    result = {key: value * 100 for key, value in result.items()}\n",
    "    for key, value in result.items():\n",
    "        writer.add_scalar(f'eval/{key}', value, epoch)\n",
    "    print(f\"Epoch {epoch}:\", result)\n",
    "    print(f\"Epoch {epoch} loss: \", loss)\n",
    "    # accelerator.save_state('checkpoint') ,"
   ]
  },
  {
   "cell_type": "code",
   "execution_count": 13,
   "metadata": {},
   "outputs": [
    {
     "data": {
      "application/vnd.jupyter.widget-view+json": {
       "model_id": "4420200f7ef6410f8d9ff022ca3c249f",
       "version_major": 2,
       "version_minor": 0
      },
      "text/plain": [
       "Clean file pytorch_model.bin:   0%|          | 1.00k/1.51G [00:00<?, ?B/s]"
      ]
     },
     "metadata": {},
     "output_type": "display_data"
    },
    {
     "data": {
      "application/vnd.jupyter.widget-view+json": {
       "model_id": "d60e24e0e2b54fcdab2b83179a3ac268",
       "version_major": 2,
       "version_minor": 0
      },
      "text/plain": [
       "Upload file pytorch_model.bin:   0%|          | 1.00/1.51G [00:00<?, ?B/s]"
      ]
     },
     "metadata": {},
     "output_type": "display_data"
    },
    {
     "data": {
      "application/vnd.jupyter.widget-view+json": {
       "model_id": "c1b3b335038b4bf8aa56951548490d7d",
       "version_major": 2,
       "version_minor": 0
      },
      "text/plain": [
       "Upload file runs/Mar23_08-50-37_DESKTOP-4P0HGA6/events.out.tfevents.1679586637.DESKTOP-4P0HGA6.24348.0:   0%| …"
      ]
     },
     "metadata": {},
     "output_type": "display_data"
    },
    {
     "name": "stderr",
     "output_type": "stream",
     "text": [
      "To https://huggingface.co/kworts/BARTxiv\n",
      "   d23df37..82fa9e7  main -> main\n",
      "\n",
      "WARNING:huggingface_hub.repository:To https://huggingface.co/kworts/BARTxiv\n",
      "   d23df37..82fa9e7  main -> main\n",
      "\n"
     ]
    },
    {
     "data": {
      "text/plain": [
       "'https://huggingface.co/kworts/BARTxiv/commit/82fa9e7c88013bb4fcda30691bf26f1d0744b25a'"
      ]
     },
     "execution_count": 13,
     "metadata": {},
     "output_type": "execute_result"
    }
   ],
   "source": [
    "unwrapped_model = accelerator.unwrap_model(model)\n",
    "unwrapped_model.save_pretrained('BARTxiv', save_function=accelerator.save)\n",
    "tokenizer.save_pretrained('BARTxiv')\n",
    "repo.git_pull()\n",
    "repo.push_to_hub(commit_message=f'Training completed ({len(tok)} examples, {epoch + 1} epochs)')"
   ]
  },
  {
   "cell_type": "code",
   "execution_count": 14,
   "metadata": {},
   "outputs": [],
   "source": [
    "from huggingface_hub import ModelCard, ModelCardData, EvalResult\n",
    "\n",
    "card_data = ModelCardData(\n",
    "    language='en',\n",
    "    license='mit',\n",
    "    tags=['summarization', 'bart'],\n",
    "    datasets='ccdv/arxiv-summarization',\n",
    "    library_name='transformers',\n",
    "    eval_results=[\n",
    "        EvalResult(\n",
    "            task_type='summarization',\n",
    "            dataset_type='ccdv/arxiv-summarization',\n",
    "            dataset_name='arxiv-summarization',\n",
    "            metric_type='rouge1',\n",
    "            metric_value=result['rouge1'].item(),\n",
    "            dataset_split='validation'\n",
    "        ),\n",
    "        EvalResult(\n",
    "            task_type='summarization',\n",
    "            dataset_type='ccdv/arxiv-summarization',\n",
    "            dataset_name='arxiv-summarization',\n",
    "            metric_type='rouge2',\n",
    "            metric_value=result['rouge2'].item(),\n",
    "            dataset_split='validation'\n",
    "        ),\n",
    "    ],\n",
    "    model_name='BARTxiv',\n",
    ")\n",
    "card = ModelCard.from_template(card_data)"
   ]
  },
  {
   "cell_type": "code",
   "execution_count": 15,
   "metadata": {},
   "outputs": [
    {
     "data": {
      "text/plain": [
       "'https://huggingface.co/kworts/BARTxiv/blob/main/README.md'"
      ]
     },
     "execution_count": 15,
     "metadata": {},
     "output_type": "execute_result"
    }
   ],
   "source": [
    "card.push_to_hub(commit_message='update model card', repo_id='kworts/BARTxiv')"
   ]
  }
 ],
 "metadata": {
  "kernelspec": {
   "display_name": "sf2023",
   "language": "python",
   "name": "python3"
  },
  "language_info": {
   "codemirror_mode": {
    "name": "ipython",
    "version": 3
   },
   "file_extension": ".py",
   "mimetype": "text/x-python",
   "name": "python",
   "nbconvert_exporter": "python",
   "pygments_lexer": "ipython3",
   "version": "3.9.13"
  },
  "vscode": {
   "interpreter": {
    "hash": "9d91b065e1e98bd94a84b52565b1e9eeed2f9dacd7b4acfae95e9d63e228b17d"
   }
  }
 },
 "nbformat": 4,
 "nbformat_minor": 2
}
