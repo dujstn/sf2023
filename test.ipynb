{
 "cells": [
  {
   "cell_type": "code",
   "execution_count": null,
   "metadata": {},
   "outputs": [],
   "source": [
    "from transformers import pipeline\n",
    "from datasets import load_dataset"
   ]
  },
  {
   "cell_type": "code",
   "execution_count": null,
   "metadata": {},
   "outputs": [],
   "source": [
    "summarize  = pipeline('summarization', model='facebook/bart-large-cnn')"
   ]
  },
  {
   "cell_type": "code",
   "execution_count": null,
   "metadata": {},
   "outputs": [],
   "source": [
    "summarize('The cerebral cortex is the intricate fabric of interconnected neural cells covering the cerebral hemispheres; the body’s ultimate control and information-processing center. It is divided into four regions called lobes: the frontal lobe, parietal lobe, temporal lobe, and occipital lobe. It is located in both the right and left hemispheres. The frontal lobes are involved in speaking, motor movements, judgement, and decision making. The parietal lobes receive and processes sensory input for touch and body position. The temporal lobes receive auditory information, primarily from the opposite ear. The occipital lobes receive visual information, primarily from the opposite visual field. The motor cortex controls voluntary movements. The somatosensory cortex registers information from the skin senses and body movements. ')"
   ]
  },
  {
   "cell_type": "code",
   "execution_count": null,
   "metadata": {},
   "outputs": [],
   "source": [
    "with open('data/brain.txt', 'r') as file:\n",
    "    text = file.read()\n",
    "\n",
    "summarize(text)"
   ]
  }
 ],
 "metadata": {
  "kernelspec": {
   "display_name": "Python 3.9.13 ('sf2023')",
   "language": "python",
   "name": "python3"
  },
  "language_info": {
   "codemirror_mode": {
    "name": "ipython",
    "version": 3
   },
   "file_extension": ".py",
   "mimetype": "text/x-python",
   "name": "python",
   "nbconvert_exporter": "python",
   "pygments_lexer": "ipython3",
   "version": "3.9.13"
  },
  "orig_nbformat": 4,
  "vscode": {
   "interpreter": {
    "hash": "9d91b065e1e98bd94a84b52565b1e9eeed2f9dacd7b4acfae95e9d63e228b17d"
   }
  }
 },
 "nbformat": 4,
 "nbformat_minor": 2
}
